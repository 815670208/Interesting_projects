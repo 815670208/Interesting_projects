{
 "cells": [
  {
   "cell_type": "code",
   "execution_count": 1,
   "metadata": {},
   "outputs": [
    {
     "data": {
      "text/html": [
       "<div>\n",
       "<style>\n",
       "    .dataframe thead tr:only-child th {\n",
       "        text-align: right;\n",
       "    }\n",
       "\n",
       "    .dataframe thead th {\n",
       "        text-align: left;\n",
       "    }\n",
       "\n",
       "    .dataframe tbody tr th {\n",
       "        vertical-align: top;\n",
       "    }\n",
       "</style>\n",
       "<table border=\"1\" class=\"dataframe\">\n",
       "  <thead>\n",
       "    <tr style=\"text-align: right;\">\n",
       "      <th></th>\n",
       "      <th>competition_time</th>\n",
       "      <th>净胜球</th>\n",
       "      <th>主客</th>\n",
       "    </tr>\n",
       "  </thead>\n",
       "  <tbody>\n",
       "    <tr>\n",
       "      <th>0</th>\n",
       "      <td>2018-06-30 22:00:00</td>\n",
       "      <td>0.405893</td>\n",
       "      <td>法国,阿根廷</td>\n",
       "    </tr>\n",
       "    <tr>\n",
       "      <th>1</th>\n",
       "      <td>2018-07-01 02:00:00</td>\n",
       "      <td>-0.408475</td>\n",
       "      <td>乌拉圭,葡萄牙</td>\n",
       "    </tr>\n",
       "    <tr>\n",
       "      <th>2</th>\n",
       "      <td>2018-07-01 22:00:00</td>\n",
       "      <td>0.660441</td>\n",
       "      <td>西班牙,俄罗斯</td>\n",
       "    </tr>\n",
       "    <tr>\n",
       "      <th>3</th>\n",
       "      <td>2018-07-02 02:00:00</td>\n",
       "      <td>-0.044530</td>\n",
       "      <td>克罗地亚,丹麦</td>\n",
       "    </tr>\n",
       "    <tr>\n",
       "      <th>4</th>\n",
       "      <td>2018-07-02 22:00:00</td>\n",
       "      <td>0.487959</td>\n",
       "      <td>巴西,墨西哥</td>\n",
       "    </tr>\n",
       "  </tbody>\n",
       "</table>\n",
       "</div>"
      ],
      "text/plain": [
       "     competition_time       净胜球       主客\n",
       "0 2018-06-30 22:00:00  0.405893   法国,阿根廷\n",
       "1 2018-07-01 02:00:00 -0.408475  乌拉圭,葡萄牙\n",
       "2 2018-07-01 22:00:00  0.660441  西班牙,俄罗斯\n",
       "3 2018-07-02 02:00:00 -0.044530  克罗地亚,丹麦\n",
       "4 2018-07-02 22:00:00  0.487959   巴西,墨西哥"
      ]
     },
     "execution_count": 1,
     "metadata": {},
     "output_type": "execute_result"
    }
   ],
   "source": [
    "import pandas as pd\n",
    "\n",
    "result_1 = pd.read_csv(r\"D:\\worldcup\\result_top8.csv\", encoding='gbk')\n",
    "result_2 = pd.read_csv(r\"D:\\worldcup\\result_top4.csv\", encoding='gbk')\n",
    "result_3 = pd.read_csv(r\"D:\\worldcup\\result.csv\", encoding='gbk')\n",
    "result_4 = pd.read_csv(r\"D:\\worldcup\\result_top2.csv\", encoding='gbk')\n",
    "result_5 = pd.read_csv(r\"D:\\worldcup\\result_top1.csv\", encoding='gbk')\n",
    "result_pro = pd.concat([result_1,result_2,result_3,result_4,result_5])\n",
    "\n",
    "result_pro['competition_time'] = pd.to_datetime(result_pro['competition_time'])\n",
    "result_pro = result_pro.reset_index(drop=True)\n",
    "\n",
    "result_pro['主客'] = result_pro['team1'].str.cat(result_pro['team2'], sep=',')\n",
    "\n",
    "result_pro = result_pro.drop(['team1','team2'], axis=1).reset_index(drop=True)\n",
    "result_pro.head()"
   ]
  },
  {
   "cell_type": "code",
   "execution_count": 2,
   "metadata": {},
   "outputs": [
    {
     "data": {
      "text/html": [
       "<div>\n",
       "<style>\n",
       "    .dataframe thead tr:only-child th {\n",
       "        text-align: right;\n",
       "    }\n",
       "\n",
       "    .dataframe thead th {\n",
       "        text-align: left;\n",
       "    }\n",
       "\n",
       "    .dataframe tbody tr th {\n",
       "        vertical-align: top;\n",
       "    }\n",
       "</style>\n",
       "<table border=\"1\" class=\"dataframe\">\n",
       "  <thead>\n",
       "    <tr style=\"text-align: right;\">\n",
       "      <th></th>\n",
       "      <th>赛事</th>\n",
       "      <th>时间</th>\n",
       "      <th>主队</th>\n",
       "      <th>主</th>\n",
       "      <th>和</th>\n",
       "      <th>客</th>\n",
       "      <th>客队</th>\n",
       "      <th>比分</th>\n",
       "      <th>真实净胜球</th>\n",
       "      <th>主客</th>\n",
       "    </tr>\n",
       "  </thead>\n",
       "  <tbody>\n",
       "    <tr>\n",
       "      <th>0</th>\n",
       "      <td>世界杯分</td>\n",
       "      <td>2018-06-29 02:00:00</td>\n",
       "      <td>英格兰</td>\n",
       "      <td>2.551</td>\n",
       "      <td>2.936</td>\n",
       "      <td>3.273</td>\n",
       "      <td>比利时</td>\n",
       "      <td>0:01</td>\n",
       "      <td>-1.0</td>\n",
       "      <td>英格兰,比利时</td>\n",
       "    </tr>\n",
       "    <tr>\n",
       "      <th>1</th>\n",
       "      <td>世界杯分</td>\n",
       "      <td>2018-06-29 02:00:00</td>\n",
       "      <td>巴拿马</td>\n",
       "      <td>4.170</td>\n",
       "      <td>3.577</td>\n",
       "      <td>1.923</td>\n",
       "      <td>突尼斯</td>\n",
       "      <td>1:02</td>\n",
       "      <td>-1.0</td>\n",
       "      <td>巴拿马,突尼斯</td>\n",
       "    </tr>\n",
       "    <tr>\n",
       "      <th>2</th>\n",
       "      <td>世界杯分</td>\n",
       "      <td>2018-06-28 22:00:00</td>\n",
       "      <td>塞内加尔</td>\n",
       "      <td>4.710</td>\n",
       "      <td>3.607</td>\n",
       "      <td>1.809</td>\n",
       "      <td>哥伦比亚</td>\n",
       "      <td>0:01</td>\n",
       "      <td>-1.0</td>\n",
       "      <td>塞内加尔,哥伦比亚</td>\n",
       "    </tr>\n",
       "    <tr>\n",
       "      <th>3</th>\n",
       "      <td>世界杯分</td>\n",
       "      <td>2018-06-28 22:00:00</td>\n",
       "      <td>日本</td>\n",
       "      <td>3.062</td>\n",
       "      <td>3.165</td>\n",
       "      <td>2.577</td>\n",
       "      <td>波兰</td>\n",
       "      <td>0:01</td>\n",
       "      <td>-1.0</td>\n",
       "      <td>日本,波兰</td>\n",
       "    </tr>\n",
       "    <tr>\n",
       "      <th>4</th>\n",
       "      <td>世界杯分</td>\n",
       "      <td>2018-06-28 02:00:00</td>\n",
       "      <td>瑞士</td>\n",
       "      <td>1.629</td>\n",
       "      <td>3.597</td>\n",
       "      <td>6.872</td>\n",
       "      <td>哥斯达黎加</td>\n",
       "      <td>2:02</td>\n",
       "      <td>0.0</td>\n",
       "      <td>瑞士,哥斯达黎加</td>\n",
       "    </tr>\n",
       "  </tbody>\n",
       "</table>\n",
       "</div>"
      ],
      "text/plain": [
       "     赛事                  时间    主队      主      和      客     客队    比分  真实净胜球  \\\n",
       "0  世界杯分 2018-06-29 02:00:00   英格兰  2.551  2.936  3.273    比利时  0:01   -1.0   \n",
       "1  世界杯分 2018-06-29 02:00:00   巴拿马  4.170  3.577  1.923    突尼斯  1:02   -1.0   \n",
       "2  世界杯分 2018-06-28 22:00:00  塞内加尔  4.710  3.607  1.809   哥伦比亚  0:01   -1.0   \n",
       "3  世界杯分 2018-06-28 22:00:00    日本  3.062  3.165  2.577     波兰  0:01   -1.0   \n",
       "4  世界杯分 2018-06-28 02:00:00    瑞士  1.629  3.597  6.872  哥斯达黎加  2:02    0.0   \n",
       "\n",
       "          主客  \n",
       "0    英格兰,比利时  \n",
       "1    巴拿马,突尼斯  \n",
       "2  塞内加尔,哥伦比亚  \n",
       "3      日本,波兰  \n",
       "4   瑞士,哥斯达黎加  "
      ]
     },
     "execution_count": 2,
     "metadata": {},
     "output_type": "execute_result"
    }
   ],
   "source": [
    "import re\n",
    "\n",
    "result_group = pd.read_csv(r\"D:\\worldcup\\world_cup.csv\", encoding='gbk')\n",
    "result_group['时间'] = pd.to_datetime(result_group['时间'])\n",
    "result_group['主'] = [float(re.search(r'^[1-9]\\d*\\.\\d*|0\\.\\d*[1-9]\\d*$', x).group()) for x in result_group['主']]\n",
    "result_group['和'] = [float(re.search(r'^[1-9]\\d*\\.\\d*|0\\.\\d*[1-9]\\d*$', x).group()) for x in result_group['和']]\n",
    "result_group['客'] = [float(re.search(r'^[1-9]\\d*\\.\\d*|0\\.\\d*[1-9]\\d*$', x).group()) for x in result_group['客']]\n",
    "result_group['真实净胜球'] = [float(x.split(':')[0])-float(x.split(':')[1]) for x in result_group['比分']]\n",
    "result_group['主客'] = result_group['主队'].str.cat(result_group['客队'], sep=',')\n",
    "result_group.head()"
   ]
  },
  {
   "cell_type": "code",
   "execution_count": 3,
   "metadata": {},
   "outputs": [
    {
     "data": {
      "text/html": [
       "<div>\n",
       "<style>\n",
       "    .dataframe thead tr:only-child th {\n",
       "        text-align: right;\n",
       "    }\n",
       "\n",
       "    .dataframe thead th {\n",
       "        text-align: left;\n",
       "    }\n",
       "\n",
       "    .dataframe tbody tr th {\n",
       "        vertical-align: top;\n",
       "    }\n",
       "</style>\n",
       "<table border=\"1\" class=\"dataframe\">\n",
       "  <thead>\n",
       "    <tr style=\"text-align: right;\">\n",
       "      <th></th>\n",
       "      <th>competition_time</th>\n",
       "      <th>净胜球</th>\n",
       "      <th>主客</th>\n",
       "      <th>赛事</th>\n",
       "      <th>时间</th>\n",
       "      <th>主队</th>\n",
       "      <th>主</th>\n",
       "      <th>和</th>\n",
       "      <th>客</th>\n",
       "      <th>客队</th>\n",
       "      <th>比分</th>\n",
       "      <th>真实净胜球</th>\n",
       "    </tr>\n",
       "  </thead>\n",
       "  <tbody>\n",
       "    <tr>\n",
       "      <th>0</th>\n",
       "      <td>2018-06-30 22:00:00</td>\n",
       "      <td>0.405893</td>\n",
       "      <td>法国,阿根廷</td>\n",
       "      <td>世界杯1</td>\n",
       "      <td>2018-06-30 22:00:00</td>\n",
       "      <td>法国</td>\n",
       "      <td>2.405</td>\n",
       "      <td>3.076</td>\n",
       "      <td>3.358</td>\n",
       "      <td>阿根廷</td>\n",
       "      <td>4:03</td>\n",
       "      <td>1.0</td>\n",
       "    </tr>\n",
       "    <tr>\n",
       "      <th>1</th>\n",
       "      <td>2018-07-01 02:00:00</td>\n",
       "      <td>-0.408475</td>\n",
       "      <td>乌拉圭,葡萄牙</td>\n",
       "      <td>世界杯1</td>\n",
       "      <td>2018-07-01 02:00:00</td>\n",
       "      <td>乌拉圭</td>\n",
       "      <td>2.981</td>\n",
       "      <td>2.936</td>\n",
       "      <td>2.771</td>\n",
       "      <td>葡萄牙</td>\n",
       "      <td>2:01</td>\n",
       "      <td>1.0</td>\n",
       "    </tr>\n",
       "    <tr>\n",
       "      <th>2</th>\n",
       "      <td>2018-07-01 22:00:00</td>\n",
       "      <td>0.660441</td>\n",
       "      <td>西班牙,俄罗斯</td>\n",
       "      <td>世界杯1</td>\n",
       "      <td>2018-07-01 22:00:00</td>\n",
       "      <td>西班牙</td>\n",
       "      <td>1.582</td>\n",
       "      <td>4.035</td>\n",
       "      <td>6.342</td>\n",
       "      <td>俄罗斯</td>\n",
       "      <td>1:01</td>\n",
       "      <td>0.0</td>\n",
       "    </tr>\n",
       "    <tr>\n",
       "      <th>3</th>\n",
       "      <td>2018-07-02 02:00:00</td>\n",
       "      <td>-0.044530</td>\n",
       "      <td>克罗地亚,丹麦</td>\n",
       "      <td>世界杯1</td>\n",
       "      <td>2018-07-02 02:00:00</td>\n",
       "      <td>克罗地亚</td>\n",
       "      <td>1.945</td>\n",
       "      <td>3.216</td>\n",
       "      <td>4.721</td>\n",
       "      <td>丹麦</td>\n",
       "      <td>1:01</td>\n",
       "      <td>0.0</td>\n",
       "    </tr>\n",
       "    <tr>\n",
       "      <th>4</th>\n",
       "      <td>2018-07-02 22:00:00</td>\n",
       "      <td>0.487959</td>\n",
       "      <td>巴西,墨西哥</td>\n",
       "      <td>世界杯1</td>\n",
       "      <td>2018-07-02 22:00:00</td>\n",
       "      <td>巴西</td>\n",
       "      <td>1.482</td>\n",
       "      <td>4.354</td>\n",
       "      <td>7.427</td>\n",
       "      <td>墨西哥</td>\n",
       "      <td>2:00</td>\n",
       "      <td>2.0</td>\n",
       "    </tr>\n",
       "  </tbody>\n",
       "</table>\n",
       "</div>"
      ],
      "text/plain": [
       "     competition_time       净胜球       主客    赛事                  时间    主队  \\\n",
       "0 2018-06-30 22:00:00  0.405893   法国,阿根廷  世界杯1 2018-06-30 22:00:00    法国   \n",
       "1 2018-07-01 02:00:00 -0.408475  乌拉圭,葡萄牙  世界杯1 2018-07-01 02:00:00   乌拉圭   \n",
       "2 2018-07-01 22:00:00  0.660441  西班牙,俄罗斯  世界杯1 2018-07-01 22:00:00   西班牙   \n",
       "3 2018-07-02 02:00:00 -0.044530  克罗地亚,丹麦  世界杯1 2018-07-02 02:00:00  克罗地亚   \n",
       "4 2018-07-02 22:00:00  0.487959   巴西,墨西哥  世界杯1 2018-07-02 22:00:00    巴西   \n",
       "\n",
       "       主      和      客   客队    比分  真实净胜球  \n",
       "0  2.405  3.076  3.358  阿根廷  4:03    1.0  \n",
       "1  2.981  2.936  2.771  葡萄牙  2:01    1.0  \n",
       "2  1.582  4.035  6.342  俄罗斯  1:01    0.0  \n",
       "3  1.945  3.216  4.721   丹麦  1:01    0.0  \n",
       "4  1.482  4.354  7.427  墨西哥  2:00    2.0  "
      ]
     },
     "execution_count": 3,
     "metadata": {},
     "output_type": "execute_result"
    }
   ],
   "source": [
    "result_all = pd.merge(result_pro, result_group, on = '主客')\n",
    "result_all.head()"
   ]
  },
  {
   "cell_type": "code",
   "execution_count": 4,
   "metadata": {},
   "outputs": [
    {
     "name": "stdout",
     "output_type": "stream",
     "text": [
      "相关系数： [[ 1.          0.50314338]\n",
      " [ 0.50314338  1.        ]]\n"
     ]
    },
    {
     "data": {
      "image/png": "[encoded data removed]",
      "text/plain": [
       "<matplotlib.figure.Figure at 0xb71ddd8>"
      ]
     },
     "metadata": {},
     "output_type": "display_data"
    }
   ],
   "source": [
    "import matplotlib.pyplot as plt\n",
    "import seaborn as sns\n",
    "import numpy as np\n",
    "%matplotlib inline\n",
    "\n",
    "plt.rcParams['font.sans-serif']=['SimHei']\n",
    "sns.regplot(x=\"净胜球\", y=\"真实净胜球\", data=result_all)\n",
    "np.corrcoef(result_all.loc[:, [\"净胜球\", \"真实净胜球\"]],rowvar=0)\n",
    "print('相关系数：', np.corrcoef(result_all.loc[:, [\"净胜球\", \"真实净胜球\"]],rowvar=0))"
   ]
  },
  {
   "cell_type": "code",
   "execution_count": 43,
   "metadata": {},
   "outputs": [
    {
     "data": {
      "text/html": [
       "<div>\n",
       "<style>\n",
       "    .dataframe thead tr:only-child th {\n",
       "        text-align: right;\n",
       "    }\n",
       "\n",
       "    .dataframe thead th {\n",
       "        text-align: left;\n",
       "    }\n",
       "\n",
       "    .dataframe tbody tr th {\n",
       "        vertical-align: top;\n",
       "    }\n",
       "</style>\n",
       "<table border=\"1\" class=\"dataframe\">\n",
       "  <thead>\n",
       "    <tr style=\"text-align: right;\">\n",
       "      <th></th>\n",
       "      <th>competition_time</th>\n",
       "      <th>净胜球</th>\n",
       "      <th>主客</th>\n",
       "      <th>赛事</th>\n",
       "      <th>时间</th>\n",
       "      <th>主队</th>\n",
       "      <th>主</th>\n",
       "      <th>和</th>\n",
       "      <th>客</th>\n",
       "      <th>客队</th>\n",
       "      <th>比分</th>\n",
       "      <th>真实净胜球</th>\n",
       "      <th>money</th>\n",
       "    </tr>\n",
       "  </thead>\n",
       "  <tbody>\n",
       "    <tr>\n",
       "      <th>0</th>\n",
       "      <td>2018-06-14 23:00:00</td>\n",
       "      <td>0.824845</td>\n",
       "      <td>俄罗斯,沙特阿拉伯</td>\n",
       "      <td>世界杯分</td>\n",
       "      <td>2018-06-14 23:00:00</td>\n",
       "      <td>俄罗斯</td>\n",
       "      <td>1.421</td>\n",
       "      <td>4.331</td>\n",
       "      <td>9.181</td>\n",
       "      <td>沙特阿拉伯</td>\n",
       "      <td>5:00</td>\n",
       "      <td>5.0</td>\n",
       "      <td>1.421</td>\n",
       "    </tr>\n",
       "    <tr>\n",
       "      <th>1</th>\n",
       "      <td>2018-06-15 20:00:00</td>\n",
       "      <td>-0.275923</td>\n",
       "      <td>埃及,乌拉圭</td>\n",
       "      <td>世界杯分</td>\n",
       "      <td>2018-06-15 20:00:00</td>\n",
       "      <td>埃及</td>\n",
       "      <td>6.833</td>\n",
       "      <td>3.776</td>\n",
       "      <td>1.578</td>\n",
       "      <td>乌拉圭</td>\n",
       "      <td>0:01</td>\n",
       "      <td>-1.0</td>\n",
       "      <td>1.578</td>\n",
       "    </tr>\n",
       "    <tr>\n",
       "      <th>2</th>\n",
       "      <td>2018-06-15 23:00:00</td>\n",
       "      <td>-0.107328</td>\n",
       "      <td>摩洛哥,伊朗</td>\n",
       "      <td>世界杯分</td>\n",
       "      <td>2018-06-15 23:00:00</td>\n",
       "      <td>摩洛哥</td>\n",
       "      <td>2.248</td>\n",
       "      <td>2.978</td>\n",
       "      <td>3.726</td>\n",
       "      <td>伊朗</td>\n",
       "      <td>0:01</td>\n",
       "      <td>-1.0</td>\n",
       "      <td>3.726</td>\n",
       "    </tr>\n",
       "    <tr>\n",
       "      <th>3</th>\n",
       "      <td>2018-06-16 02:00:00</td>\n",
       "      <td>-0.464226</td>\n",
       "      <td>葡萄牙,西班牙</td>\n",
       "      <td>世界杯分</td>\n",
       "      <td>2018-06-16 02:00:00</td>\n",
       "      <td>葡萄牙</td>\n",
       "      <td>4.076</td>\n",
       "      <td>3.261</td>\n",
       "      <td>2.006</td>\n",
       "      <td>西班牙</td>\n",
       "      <td>3:03</td>\n",
       "      <td>0.0</td>\n",
       "      <td>0.000</td>\n",
       "    </tr>\n",
       "    <tr>\n",
       "      <th>4</th>\n",
       "      <td>2018-06-16 18:00:00</td>\n",
       "      <td>0.880400</td>\n",
       "      <td>法国,澳大利亚</td>\n",
       "      <td>世界杯分</td>\n",
       "      <td>2018-06-16 18:00:00</td>\n",
       "      <td>法国</td>\n",
       "      <td>1.239</td>\n",
       "      <td>6.296</td>\n",
       "      <td>12.130</td>\n",
       "      <td>澳大利亚</td>\n",
       "      <td>2:01</td>\n",
       "      <td>1.0</td>\n",
       "      <td>1.239</td>\n",
       "    </tr>\n",
       "  </tbody>\n",
       "</table>\n",
       "</div>"
      ],
      "text/plain": [
       "     competition_time       净胜球         主客    赛事                  时间   主队  \\\n",
       "0 2018-06-14 23:00:00  0.824845  俄罗斯,沙特阿拉伯  世界杯分 2018-06-14 23:00:00  俄罗斯   \n",
       "1 2018-06-15 20:00:00 -0.275923     埃及,乌拉圭  世界杯分 2018-06-15 20:00:00   埃及   \n",
       "2 2018-06-15 23:00:00 -0.107328     摩洛哥,伊朗  世界杯分 2018-06-15 23:00:00  摩洛哥   \n",
       "3 2018-06-16 02:00:00 -0.464226    葡萄牙,西班牙  世界杯分 2018-06-16 02:00:00  葡萄牙   \n",
       "4 2018-06-16 18:00:00  0.880400    法国,澳大利亚  世界杯分 2018-06-16 18:00:00   法国   \n",
       "\n",
       "       主      和       客     客队    比分  真实净胜球  money  \n",
       "0  1.421  4.331   9.181  沙特阿拉伯  5:00    5.0  1.421  \n",
       "1  6.833  3.776   1.578    乌拉圭  0:01   -1.0  1.578  \n",
       "2  2.248  2.978   3.726     伊朗  0:01   -1.0  3.726  \n",
       "3  4.076  3.261   2.006    西班牙  3:03    0.0  0.000  \n",
       "4  1.239  6.296  12.130   澳大利亚  2:01    1.0  1.239  "
      ]
     },
     "execution_count": 43,
     "metadata": {},
     "output_type": "execute_result"
    }
   ],
   "source": [
    "result_all['money'] = 0\n",
    "for i in range(len(result_all)):\n",
    "    if result_all.loc[i, '净胜球'] > 0.1:\n",
    "        if result_all.loc[i, '真实净胜球'] > 0.0:\n",
    "            result_all.loc[i, 'money'] = result_all.loc[i, '主']\n",
    "    elif result_all.loc[i, '净胜球'] < -0.1:\n",
    "        if result_all.loc[i, '真实净胜球'] < 0.0:\n",
    "            result_all.loc[i, 'money'] = result_all.loc[i, '客']\n",
    "    else:\n",
    "        if result_all.loc[i, '真实净胜球'] == 0:\n",
    "            result_all.loc[i, 'money'] = result_all.loc[i, '和']\n",
    "result_all = result_all.fillna(0)\n",
    "result_all.head()"
   ]
  },
  {
   "cell_type": "code",
   "execution_count": 44,
   "metadata": {},
   "outputs": [
    {
     "name": "stdout",
     "output_type": "stream",
     "text": [
      "准确率： 0.625\n"
     ]
    }
   ],
   "source": [
    "a = [1 for x in result_all['money'] if x>0]\n",
    "print('准确率：',sum(a)/len(result_all))"
   ]
  },
  {
   "cell_type": "markdown",
   "metadata": {},
   "source": [
    "### 按照单场投资的方法"
   ]
  },
  {
   "cell_type": "code",
   "execution_count": 38,
   "metadata": {},
   "outputs": [
    {
     "name": "stdout",
     "output_type": "stream",
     "text": [
      "你能赚多少： 1.34171875\n",
      "利率： 0.34171875000000007\n"
     ]
    }
   ],
   "source": [
    "result_all = result_all.sort_values('competition_time').reset_index(drop=True)\n",
    "rate = np.mean(result_all['money'])\n",
    "print('你能赚多少：',rate)\n",
    "print('利率：',(rate-1))"
   ]
  },
  {
   "cell_type": "markdown",
   "metadata": {},
   "source": [
    "### 按照同时投2场的方法"
   ]
  },
  {
   "cell_type": "code",
   "execution_count": 39,
   "metadata": {
    "scrolled": true
   },
   "outputs": [
    {
     "name": "stdout",
     "output_type": "stream",
     "text": [
      "2串1： 1.71545195238\n",
      "利率： 0.715451952381\n"
     ]
    }
   ],
   "source": [
    "list_ = []\n",
    "for i in range(len(result_all)-1):\n",
    "    tmp = result_all.loc[i, 'money'] * result_all.loc[i+1, 'money']\n",
    "    list_.append(tmp)\n",
    "print(\"2串1：\",np.mean(list_))\n",
    "print('利率：',(np.mean(list_)-1))"
   ]
  },
  {
   "cell_type": "markdown",
   "metadata": {},
   "source": [
    "### 混淆矩阵"
   ]
  },
  {
   "cell_type": "code",
   "execution_count": 40,
   "metadata": {},
   "outputs": [
    {
     "data": {
      "text/plain": [
       "Text(35,0.5,'pro')"
      ]
     },
     "execution_count": 40,
     "metadata": {},
     "output_type": "execute_result"
    },
    {
     "data": {
      "image/png": "[encoded data removed]",
      "text/plain": [
       "<matplotlib.figure.Figure at 0xc90d198>"
      ]
     },
     "metadata": {},
     "output_type": "display_data"
    }
   ],
   "source": [
    "def fun(x):\n",
    "    if x > 0.1:\n",
    "        return 1\n",
    "    elif x < -0.1:\n",
    "        return -1\n",
    "    else:\n",
    "        return 0\n",
    "    \n",
    "p = [fun(x) for x in result_all['净胜球']]\n",
    "y = [fun(x) for x in result_all['真实净胜球']]\n",
    "\n",
    "from sklearn.metrics import confusion_matrix\n",
    "mat =  confusion_matrix(y, p)\n",
    "sns.heatmap(mat.T, annot=True, fmt='d')\n",
    "plt.xlabel('real')\n",
    "plt.ylabel('pro')"
   ]
  },
  {
   "cell_type": "code",
   "execution_count": null,
   "metadata": {
    "collapsed": true
   },
   "outputs": [],
   "source": []
  }
 ],
 "metadata": {
  "kernelspec": {
   "display_name": "Python 3",
   "language": "python",
   "name": "python3"
  },
  "language_info": {
   "codemirror_mode": {
    "name": "ipython",
    "version": 3
   },
   "file_extension": ".py",
   "mimetype": "text/x-python",
   "name": "python",
   "nbconvert_exporter": "python",
   "pygments_lexer": "ipython3",
   "version": "3.6.3"
  }
 },
 "nbformat": 4,
 "nbformat_minor": 2
}
